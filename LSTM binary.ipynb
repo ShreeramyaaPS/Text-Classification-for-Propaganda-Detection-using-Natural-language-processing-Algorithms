{
 "cells": [
  {
   "cell_type": "code",
   "execution_count": 1,
   "metadata": {},
   "outputs": [
    {
     "name": "stderr",
     "output_type": "stream",
     "text": [
      "2023-05-04 23:51:31.279797: I tensorflow/core/platform/cpu_feature_guard.cc:193] This TensorFlow binary is optimized with oneAPI Deep Neural Network Library (oneDNN) to use the following CPU instructions in performance-critical operations:  SSE4.1 SSE4.2\n",
      "To enable them in other operations, rebuild TensorFlow with the appropriate compiler flags.\n"
     ]
    }
   ],
   "source": [
    "import numpy as np\n",
    "import pandas as pd\n",
    "from gensim.models.word2vec import Word2Vec\n",
    "from sklearn.model_selection import train_test_split\n",
    "from keras.utils import to_categorical\n",
    "from keras.layers import Dense, Dropout, Embedding, Activation, Bidirectional, LSTM\n",
    "from sklearn import preprocessing\n",
    "from keras.preprocessing.text import Tokenizer\n",
    "from keras_preprocessing.sequence import pad_sequences\n",
    "from keras.models import Sequential\n",
    "import re\n",
    "import nltk\n",
    "from nltk.corpus import stopwords\n",
    "from sklearn.svm import SVC\n",
    "from sklearn.linear_model import LogisticRegression\n",
    "from sklearn.metrics import classification_report"
   ]
  },
  {
   "cell_type": "code",
   "execution_count": 2,
   "metadata": {},
   "outputs": [],
   "source": [
    "import os,random,math\n",
    "TRAINING_DIR=\"propaganda_dataset_v2\"\n",
    "\n",
    "files=os.listdir(TRAINING_DIR)\n",
    "\n",
    "trainingdf= pd.read_csv(os.path.join(TRAINING_DIR,files[1]),sep = '\\t')\n",
    "testingdf= pd.read_csv(os.path.join(TRAINING_DIR,files[2]),sep = '\\t')"
   ]
  },
  {
   "cell_type": "code",
   "execution_count": 3,
   "metadata": {},
   "outputs": [],
   "source": [
    "def convert_token(sentences):\n",
    "    start_sent = sentences.replace(\"<BOS>\",\"\")\n",
    "    end_sent =start_sent.replace(\"<EOS>\",\"\")\n",
    "    return end_sent"
   ]
  },
  {
   "cell_type": "code",
   "execution_count": 4,
   "metadata": {},
   "outputs": [],
   "source": [
    "testingdf[\"tagged_in_context\"]=testingdf[\"tagged_in_context\"].map(convert_token)\n",
    "trainingdf[\"tagged_in_context\"]=trainingdf[\"tagged_in_context\"].map(convert_token)"
   ]
  },
  {
   "cell_type": "code",
   "execution_count": 6,
   "metadata": {},
   "outputs": [],
   "source": [
    "binaryclass_traindf=trainingdf\n",
    "binaryclass_testdf=testingdf"
   ]
  },
  {
   "cell_type": "code",
   "execution_count": 7,
   "metadata": {},
   "outputs": [
    {
     "data": {
      "text/html": [
       "<div>\n",
       "<style scoped>\n",
       "    .dataframe tbody tr th:only-of-type {\n",
       "        vertical-align: middle;\n",
       "    }\n",
       "\n",
       "    .dataframe tbody tr th {\n",
       "        vertical-align: top;\n",
       "    }\n",
       "\n",
       "    .dataframe thead th {\n",
       "        text-align: right;\n",
       "    }\n",
       "</style>\n",
       "<table border=\"1\" class=\"dataframe\">\n",
       "  <thead>\n",
       "    <tr style=\"text-align: right;\">\n",
       "      <th></th>\n",
       "      <th>label</th>\n",
       "      <th>tagged_in_context</th>\n",
       "    </tr>\n",
       "  </thead>\n",
       "  <tbody>\n",
       "    <tr>\n",
       "      <th>0</th>\n",
       "      <td>1</td>\n",
       "      <td>No,  he  will not be confirmed.</td>\n",
       "    </tr>\n",
       "    <tr>\n",
       "      <th>1</th>\n",
       "      <td>1</td>\n",
       "      <td>This declassification effort  won’t make thing...</td>\n",
       "    </tr>\n",
       "    <tr>\n",
       "      <th>2</th>\n",
       "      <td>0</td>\n",
       "      <td>The Obama administration misled the  American ...</td>\n",
       "    </tr>\n",
       "    <tr>\n",
       "      <th>3</th>\n",
       "      <td>1</td>\n",
       "      <td>“It looks like we’re capturing the demise of t...</td>\n",
       "    </tr>\n",
       "    <tr>\n",
       "      <th>4</th>\n",
       "      <td>1</td>\n",
       "      <td>Location: Westerville, Ohio</td>\n",
       "    </tr>\n",
       "    <tr>\n",
       "      <th>...</th>\n",
       "      <td>...</td>\n",
       "      <td>...</td>\n",
       "    </tr>\n",
       "    <tr>\n",
       "      <th>2409</th>\n",
       "      <td>1</td>\n",
       "      <td>We support and appreciate  your business.”</td>\n",
       "    </tr>\n",
       "    <tr>\n",
       "      <th>2410</th>\n",
       "      <td>1</td>\n",
       "      <td>International Atomic Energy Agency (IAEA) Dire...</td>\n",
       "    </tr>\n",
       "    <tr>\n",
       "      <th>2411</th>\n",
       "      <td>1</td>\n",
       "      <td>What has been done: there has been work on for...</td>\n",
       "    </tr>\n",
       "    <tr>\n",
       "      <th>2412</th>\n",
       "      <td>1</td>\n",
       "      <td>This is  the law of gradualness not the gradua...</td>\n",
       "    </tr>\n",
       "    <tr>\n",
       "      <th>2413</th>\n",
       "      <td>0</td>\n",
       "      <td>In it, Jews are described as: “arrogant,” “jea...</td>\n",
       "    </tr>\n",
       "  </tbody>\n",
       "</table>\n",
       "<p>2414 rows × 2 columns</p>\n",
       "</div>"
      ],
      "text/plain": [
       "      label                                  tagged_in_context\n",
       "0         1                   No,  he  will not be confirmed. \n",
       "1         1  This declassification effort  won’t make thing...\n",
       "2         0  The Obama administration misled the  American ...\n",
       "3         1  “It looks like we’re capturing the demise of t...\n",
       "4         1                      Location: Westerville, Ohio  \n",
       "...     ...                                                ...\n",
       "2409      1        We support and appreciate  your business.” \n",
       "2410      1  International Atomic Energy Agency (IAEA) Dire...\n",
       "2411      1  What has been done: there has been work on for...\n",
       "2412      1  This is  the law of gradualness not the gradua...\n",
       "2413      0  In it, Jews are described as: “arrogant,” “jea...\n",
       "\n",
       "[2414 rows x 2 columns]"
      ]
     },
     "execution_count": 7,
     "metadata": {},
     "output_type": "execute_result"
    }
   ],
   "source": [
    "def replace_labels(label):\n",
    "    return 1 if label==\"not_propaganda\" else 0\n",
    "binaryclass_testdf[\"label\"]= binaryclass_testdf[\"label\"].map(replace_labels)\n",
    "binaryclass_traindf[\"label\"]=binaryclass_traindf[\"label\"].map(replace_labels)\n",
    "binaryclass_traindf"
   ]
  },
  {
   "cell_type": "code",
   "execution_count": 8,
   "metadata": {},
   "outputs": [],
   "source": [
    "def text_preprocessing(sen):\n",
    "    # Remove punctuations and numbers\n",
    "    sentence = re.sub('[^a-zA-Z]', ' ', sen)\n",
    "\n",
    "    # Single character removal\n",
    "    sentence = re.sub(r\"\\s+[a-zA-Z]\\s+\", ' ', sentence)\n",
    "\n",
    "    # Removing multiple spaces\n",
    "    sentence = re.sub(r'\\s+', ' ', sentence)\n",
    "    \n",
    "    stops = stopwords.words('english')\n",
    "    #print(stops)\n",
    "    \n",
    "    return sentence.lower()"
   ]
  },
  {
   "cell_type": "code",
   "execution_count": 9,
   "metadata": {},
   "outputs": [],
   "source": [
    "binaryclass_testdf[\"tagged_in_context\"]=binaryclass_testdf[\"tagged_in_context\"].map(text_preprocessing)\n",
    "binaryclass_traindf[\"tagged_in_context\"]=binaryclass_traindf[\"tagged_in_context\"].map(text_preprocessing)"
   ]
  },
  {
   "cell_type": "code",
   "execution_count": 10,
   "metadata": {},
   "outputs": [],
   "source": [
    "from keras.utils import to_categorical\n",
    "y_train = to_categorical(binaryclass_traindf[\"label\"])\n",
    "y_test = to_categorical(binaryclass_testdf[\"label\"])"
   ]
  },
  {
   "cell_type": "code",
   "execution_count": 11,
   "metadata": {},
   "outputs": [],
   "source": [
    "from keras.preprocessing.text import Tokenizer\n",
    "no_words=10000\n",
    "tokenizer=Tokenizer(num_words=no_words,lower=True)"
   ]
  },
  {
   "cell_type": "code",
   "execution_count": 13,
   "metadata": {},
   "outputs": [],
   "source": [
    "mes = []\n",
    "for i in binaryclass_testdf['tagged_in_context']:\n",
    "    mes.append(i.split())\n",
    "for i in binaryclass_traindf['tagged_in_context']:\n",
    "    mes.append(i.split())"
   ]
  },
  {
   "cell_type": "code",
   "execution_count": 14,
   "metadata": {},
   "outputs": [],
   "source": [
    "tokenizer.fit_on_texts(mes)"
   ]
  },
  {
   "cell_type": "code",
   "execution_count": 16,
   "metadata": {},
   "outputs": [],
   "source": [
    "X_train=tokenizer.texts_to_sequences(binaryclass_traindf[\"tagged_in_context\"])  \n",
    "X_train_pad=pad_sequences(X_train,maxlen=140,padding='post') \n",
    "X_test = tokenizer.texts_to_sequences(binaryclass_testdf[\"tagged_in_context\"])\n",
    "X_test_pad = pad_sequences(X_test, maxlen = 140, padding = 'post')"
   ]
  },
  {
   "cell_type": "code",
   "execution_count": 17,
   "metadata": {},
   "outputs": [
    {
     "name": "stdout",
     "output_type": "stream",
     "text": [
      "[==================================================] 100.0% 128.1/128.1MB downloaded\n"
     ]
    }
   ],
   "source": [
    "import gensim.downloader as api\n",
    "glove_gensim  = api.load('glove-wiki-gigaword-100')"
   ]
  },
  {
   "cell_type": "code",
   "execution_count": 18,
   "metadata": {},
   "outputs": [],
   "source": [
    "vector_size = 100\n",
    "gensim_weight_matrix = np.zeros((no_words ,vector_size))\n",
    "gensim_weight_matrix.shape\n",
    "words = list(glove_gensim.key_to_index.keys())\n",
    "for word, index in tokenizer.word_index.items():\n",
    "    if index < no_words: \n",
    "        if word in  words:\n",
    "            gensim_weight_matrix[index] = glove_gensim[word]\n",
    "        else:\n",
    "            gensim_weight_matrix[index] = np.zeros(100)"
   ]
  },
  {
   "cell_type": "code",
   "execution_count": 19,
   "metadata": {},
   "outputs": [],
   "source": [
    "EMBEDDING_DIM = 100\n",
    "class_num = 2\n",
    "model = Sequential()\n",
    "model.add(Embedding(input_dim = no_words,\n",
    " output_dim = EMBEDDING_DIM,\n",
    " input_length= X_train_pad.shape[1],\n",
    " weights = [gensim_weight_matrix],trainable = False))\n",
    "\n",
    "\n",
    "model.add(Bidirectional(LSTM(100,return_sequences=True)))\n",
    "model.add(Dropout(0.2))\n",
    "model.add(Bidirectional(LSTM(200,return_sequences=True)))\n",
    "model.add(Dropout(0.2))\n",
    "model.add(Bidirectional(LSTM(200,return_sequences=False)))\n",
    "model.add(Dense(class_num, activation = \"sigmoid\"))\n",
    "model.compile(loss = \"binary_crossentropy\", optimizer = \"adam\",metrics = \"accuracy\")"
   ]
  },
  {
   "cell_type": "code",
   "execution_count": 20,
   "metadata": {},
   "outputs": [],
   "source": [
    "from keras.callbacks import EarlyStopping, ModelCheckpoint\n",
    "es = EarlyStopping(monitor = 'val_loss', mode = 'min', verbose = 1, patience = 5)\n",
    "mc = ModelCheckpoint('./model.h5', monitor = 'val_accuracy', mode = 'max', verbose = 1, save_best_only = True)"
   ]
  },
  {
   "cell_type": "code",
   "execution_count": 21,
   "metadata": {},
   "outputs": [
    {
     "name": "stdout",
     "output_type": "stream",
     "text": [
      "Model: \"sequential\"\n",
      "_________________________________________________________________\n",
      " Layer (type)                Output Shape              Param #   \n",
      "=================================================================\n",
      " embedding (Embedding)       (None, 140, 100)          1000000   \n",
      "                                                                 \n",
      " bidirectional (Bidirectiona  (None, 140, 200)         160800    \n",
      " l)                                                              \n",
      "                                                                 \n",
      " dropout (Dropout)           (None, 140, 200)          0         \n",
      "                                                                 \n",
      " bidirectional_1 (Bidirectio  (None, 140, 400)         641600    \n",
      " nal)                                                            \n",
      "                                                                 \n",
      " dropout_1 (Dropout)         (None, 140, 400)          0         \n",
      "                                                                 \n",
      " bidirectional_2 (Bidirectio  (None, 400)              961600    \n",
      " nal)                                                            \n",
      "                                                                 \n",
      " dense (Dense)               (None, 2)                 802       \n",
      "                                                                 \n",
      "=================================================================\n",
      "Total params: 2,764,802\n",
      "Trainable params: 1,764,802\n",
      "Non-trainable params: 1,000,000\n",
      "_________________________________________________________________\n"
     ]
    }
   ],
   "source": [
    "model.summary()"
   ]
  },
  {
   "cell_type": "code",
   "execution_count": 22,
   "metadata": {},
   "outputs": [
    {
     "name": "stdout",
     "output_type": "stream",
     "text": [
      "Epoch 1/25\n",
      "21/21 [==============================] - ETA: 0s - loss: 0.6497 - accuracy: 0.6276\n",
      "Epoch 1: val_accuracy improved from -inf to 0.61897, saving model to ./model.h5\n",
      "21/21 [==============================] - 26s 1s/step - loss: 0.6497 - accuracy: 0.6276 - val_loss: 0.6392 - val_accuracy: 0.6190\n",
      "Epoch 2/25\n",
      "21/21 [==============================] - ETA: 0s - loss: 0.5888 - accuracy: 0.6993\n",
      "Epoch 2: val_accuracy improved from 0.61897 to 0.71379, saving model to ./model.h5\n",
      "21/21 [==============================] - 21s 1s/step - loss: 0.5888 - accuracy: 0.6993 - val_loss: 0.5728 - val_accuracy: 0.7138\n",
      "Epoch 3/25\n",
      "21/21 [==============================] - ETA: 0s - loss: 0.5504 - accuracy: 0.7216\n",
      "Epoch 3: val_accuracy improved from 0.71379 to 0.73103, saving model to ./model.h5\n",
      "21/21 [==============================] - 21s 1s/step - loss: 0.5504 - accuracy: 0.7216 - val_loss: 0.5730 - val_accuracy: 0.7310\n",
      "Epoch 4/25\n",
      "21/21 [==============================] - ETA: 0s - loss: 0.5386 - accuracy: 0.7527\n",
      "Epoch 4: val_accuracy did not improve from 0.73103\n",
      "21/21 [==============================] - 21s 1s/step - loss: 0.5386 - accuracy: 0.7527 - val_loss: 0.6926 - val_accuracy: 0.6414\n",
      "Epoch 5/25\n",
      "21/21 [==============================] - ETA: 0s - loss: 0.5716 - accuracy: 0.7051\n",
      "Epoch 5: val_accuracy improved from 0.73103 to 0.73276, saving model to ./model.h5\n",
      "21/21 [==============================] - 21s 1s/step - loss: 0.5716 - accuracy: 0.7051 - val_loss: 0.5741 - val_accuracy: 0.7328\n",
      "Epoch 6/25\n",
      "21/21 [==============================] - ETA: 0s - loss: 0.5138 - accuracy: 0.7606\n",
      "Epoch 6: val_accuracy improved from 0.73276 to 0.73448, saving model to ./model.h5\n",
      "21/21 [==============================] - 21s 1s/step - loss: 0.5138 - accuracy: 0.7606 - val_loss: 0.5399 - val_accuracy: 0.7345\n",
      "Epoch 7/25\n",
      "21/21 [==============================] - ETA: 0s - loss: 0.4857 - accuracy: 0.7767\n",
      "Epoch 7: val_accuracy improved from 0.73448 to 0.73621, saving model to ./model.h5\n",
      "21/21 [==============================] - 21s 1s/step - loss: 0.4857 - accuracy: 0.7767 - val_loss: 0.5535 - val_accuracy: 0.7362\n",
      "Epoch 8/25\n",
      "21/21 [==============================] - ETA: 0s - loss: 0.4783 - accuracy: 0.7821\n",
      "Epoch 8: val_accuracy improved from 0.73621 to 0.73966, saving model to ./model.h5\n",
      "21/21 [==============================] - 21s 1s/step - loss: 0.4783 - accuracy: 0.7821 - val_loss: 0.5476 - val_accuracy: 0.7397\n",
      "Epoch 9/25\n",
      "21/21 [==============================] - ETA: 0s - loss: 0.4719 - accuracy: 0.7875\n",
      "Epoch 9: val_accuracy did not improve from 0.73966\n",
      "21/21 [==============================] - 21s 1s/step - loss: 0.4719 - accuracy: 0.7875 - val_loss: 0.5392 - val_accuracy: 0.7362\n",
      "Epoch 10/25\n",
      "21/21 [==============================] - ETA: 0s - loss: 0.4478 - accuracy: 0.8024\n",
      "Epoch 10: val_accuracy did not improve from 0.73966\n",
      "21/21 [==============================] - 21s 1s/step - loss: 0.4478 - accuracy: 0.8024 - val_loss: 0.5441 - val_accuracy: 0.7345\n",
      "Epoch 11/25\n",
      "21/21 [==============================] - ETA: 0s - loss: 0.4504 - accuracy: 0.7858\n",
      "Epoch 11: val_accuracy improved from 0.73966 to 0.75172, saving model to ./model.h5\n",
      "21/21 [==============================] - 21s 1s/step - loss: 0.4504 - accuracy: 0.7858 - val_loss: 0.5278 - val_accuracy: 0.7517\n",
      "Epoch 12/25\n",
      "21/21 [==============================] - ETA: 0s - loss: 0.4121 - accuracy: 0.8190\n",
      "Epoch 12: val_accuracy improved from 0.75172 to 0.75690, saving model to ./model.h5\n",
      "21/21 [==============================] - 21s 1s/step - loss: 0.4121 - accuracy: 0.8190 - val_loss: 0.5137 - val_accuracy: 0.7569\n",
      "Epoch 13/25\n",
      "21/21 [==============================] - ETA: 0s - loss: 0.3924 - accuracy: 0.8310\n",
      "Epoch 13: val_accuracy did not improve from 0.75690\n",
      "21/21 [==============================] - 21s 1s/step - loss: 0.3924 - accuracy: 0.8310 - val_loss: 0.5954 - val_accuracy: 0.7241\n",
      "Epoch 14/25\n",
      "21/21 [==============================] - ETA: 0s - loss: 0.3864 - accuracy: 0.8264\n",
      "Epoch 14: val_accuracy did not improve from 0.75690\n",
      "21/21 [==============================] - 21s 999ms/step - loss: 0.3864 - accuracy: 0.8264 - val_loss: 0.7859 - val_accuracy: 0.7121\n",
      "Epoch 15/25\n",
      "21/21 [==============================] - ETA: 0s - loss: 0.4054 - accuracy: 0.8318\n",
      "Epoch 15: val_accuracy did not improve from 0.75690\n",
      "21/21 [==============================] - 21s 998ms/step - loss: 0.4054 - accuracy: 0.8318 - val_loss: 0.5608 - val_accuracy: 0.7448\n",
      "Epoch 16/25\n",
      "21/21 [==============================] - ETA: 0s - loss: 0.3428 - accuracy: 0.8567\n",
      "Epoch 16: val_accuracy did not improve from 0.75690\n",
      "21/21 [==============================] - 21s 1s/step - loss: 0.3428 - accuracy: 0.8567 - val_loss: 0.6267 - val_accuracy: 0.7483\n",
      "Epoch 17/25\n",
      "21/21 [==============================] - ETA: 0s - loss: 0.3035 - accuracy: 0.8753\n",
      "Epoch 17: val_accuracy did not improve from 0.75690\n",
      "21/21 [==============================] - 21s 1s/step - loss: 0.3035 - accuracy: 0.8753 - val_loss: 0.6250 - val_accuracy: 0.7138\n",
      "Epoch 17: early stopping\n"
     ]
    }
   ],
   "source": [
    "history_embedding = model.fit(X_train_pad, y_train, \n",
    "                                epochs = 25, batch_size = 120, \n",
    "                                validation_data=(X_test_pad, y_test),\n",
    "                                verbose = 1, callbacks= [es, mc]  )"
   ]
  },
  {
   "cell_type": "code",
   "execution_count": 23,
   "metadata": {},
   "outputs": [
    {
     "data": {
      "image/png": "[encoded data removed]",
      "text/plain": [
       "<Figure size 640x480 with 1 Axes>"
      ]
     },
     "metadata": {},
     "output_type": "display_data"
    }
   ],
   "source": [
    "import matplotlib.pyplot as plt\n",
    "plt.plot(history_embedding.history['accuracy'],c='b',label='train accuracy')\n",
    "plt.plot(history_embedding.history['val_accuracy'],c='r',label='validation accuracy')\n",
    "plt.legend(loc='lower right')\n",
    "plt.show()"
   ]
  },
  {
   "cell_type": "code",
   "execution_count": 24,
   "metadata": {},
   "outputs": [
    {
     "name": "stdout",
     "output_type": "stream",
     "text": [
      "19/19 [==============================] - 3s 125ms/step\n",
      "              precision    recall  f1-score   support\n",
      "\n",
      "           0       0.85      0.66      0.74       363\n",
      "           1       0.58      0.81      0.68       217\n",
      "\n",
      "    accuracy                           0.71       580\n",
      "   macro avg       0.72      0.73      0.71       580\n",
      "weighted avg       0.75      0.71      0.72       580\n",
      "\n"
     ]
    }
   ],
   "source": [
    "y_pred =   np.argmax(model.predict(X_test_pad), axis  =  1)\n",
    "y_true = np.argmax(y_test, axis = 1)\n",
    "from sklearn import metrics\n",
    "print(metrics.classification_report(y_pred, y_true))"
   ]
  },
  {
   "cell_type": "code",
   "execution_count": 26,
   "metadata": {},
   "outputs": [
    {
     "name": "stdout",
     "output_type": "stream",
     "text": [
      "19/19 [==============================] - 2s 124ms/step\n",
      "19/19 [==============================] - 2s 124ms/step\n",
      "Accuracy:  0.7120689655172414\n",
      "Precision:  0.7333536453771058\n",
      "Recall:  0.7188821014777504\n",
      "F1 Score:  0.7104848506717665\n"
     ]
    }
   ],
   "source": [
    "y_pred = model.predict(X_test_pad)\n",
    "y_pred\n",
    "threshold=0.5\n",
    "binary_labels = np.where(y_pred >= threshold, 1, 0)\n",
    "\n",
    "\n",
    "y_pred = model.predict(X_test_pad)\n",
    "y_pred = np.argmax (y_pred, axis = 1)\n",
    "from sklearn.metrics import accuracy_score, precision_score, recall_score, f1_score\n",
    "print(\"Accuracy: \", accuracy_score(y_test, binary_labels))\n",
    "print(\"Precision: \", precision_score(y_test, binary_labels, average='macro'))\n",
    "print(\"Recall: \", recall_score(y_test, binary_labels, average='macro'))\n",
    "print(\"F1 Score: \", f1_score(y_test, binary_labels, average='macro'))"
   ]
  },
  {
   "cell_type": "code",
   "execution_count": null,
   "metadata": {},
   "outputs": [],
   "source": []
  }
 ],
 "metadata": {
  "kernelspec": {
   "display_name": "Python 3 (ipykernel)",
   "language": "python",
   "name": "python3"
  },
  "language_info": {
   "codemirror_mode": {
    "name": "ipython",
    "version": 3
   },
   "file_extension": ".py",
   "mimetype": "text/x-python",
   "name": "python",
   "nbconvert_exporter": "python",
   "pygments_lexer": "ipython3",
   "version": "3.9.16"
  }
 },
 "nbformat": 4,
 "nbformat_minor": 2
}
