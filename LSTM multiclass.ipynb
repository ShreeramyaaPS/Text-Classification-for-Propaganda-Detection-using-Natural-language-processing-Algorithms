{
 "cells": [
  {
   "cell_type": "code",
   "execution_count": 1,
   "metadata": {},
   "outputs": [
    {
     "name": "stderr",
     "output_type": "stream",
     "text": [
      "2023-05-05 08:59:56.076972: I tensorflow/core/platform/cpu_feature_guard.cc:193] This TensorFlow binary is optimized with oneAPI Deep Neural Network Library (oneDNN) to use the following CPU instructions in performance-critical operations:  SSE4.1 SSE4.2\n",
      "To enable them in other operations, rebuild TensorFlow with the appropriate compiler flags.\n"
     ]
    }
   ],
   "source": [
    "import numpy as np\n",
    "import pandas as pd\n",
    "from gensim.models.word2vec import Word2Vec\n",
    "from sklearn.model_selection import train_test_split\n",
    "from keras.utils import to_categorical\n",
    "from keras.layers import Dense, Dropout, Conv1D, MaxPool1D, GlobalMaxPool1D, Embedding, Activation\n",
    "from sklearn import preprocessing\n",
    "from keras.preprocessing.text import Tokenizer\n",
    "from keras_preprocessing.sequence import pad_sequences\n",
    "from keras.models import Sequential\n",
    "import re\n",
    "import nltk\n",
    "from nltk.corpus import stopwords\n",
    "from sklearn.svm import SVC\n",
    "from sklearn.linear_model import LogisticRegression\n",
    "from sklearn.metrics import classification_report\n"
   ]
  },
  {
   "cell_type": "code",
   "execution_count": 2,
   "metadata": {},
   "outputs": [],
   "source": [
    "import os,random,math\n",
    "TRAINING_DIR=\"propaganda_dataset_v2\"\n",
    "\n",
    "files=os.listdir(TRAINING_DIR)\n",
    "\n",
    "trainingdf= pd.read_csv(os.path.join(TRAINING_DIR,files[1]),sep = '\\t')\n",
    "testingdf= pd.read_csv(os.path.join(TRAINING_DIR,files[2]),sep = '\\t')"
   ]
  },
  {
   "cell_type": "code",
   "execution_count": 3,
   "metadata": {},
   "outputs": [
    {
     "data": {
      "text/html": [
       "<div>\n",
       "<style scoped>\n",
       "    .dataframe tbody tr th:only-of-type {\n",
       "        vertical-align: middle;\n",
       "    }\n",
       "\n",
       "    .dataframe tbody tr th {\n",
       "        vertical-align: top;\n",
       "    }\n",
       "\n",
       "    .dataframe thead th {\n",
       "        text-align: right;\n",
       "    }\n",
       "</style>\n",
       "<table border=\"1\" class=\"dataframe\">\n",
       "  <thead>\n",
       "    <tr style=\"text-align: right;\">\n",
       "      <th></th>\n",
       "      <th>label</th>\n",
       "      <th>tagged_in_context</th>\n",
       "    </tr>\n",
       "  </thead>\n",
       "  <tbody>\n",
       "    <tr>\n",
       "      <th>0</th>\n",
       "      <td>not_propaganda</td>\n",
       "      <td>according to a UN estimate.</td>\n",
       "    </tr>\n",
       "    <tr>\n",
       "      <th>1</th>\n",
       "      <td>causal_oversimplification</td>\n",
       "      <td>the country would not last long without an ou...</td>\n",
       "    </tr>\n",
       "    <tr>\n",
       "      <th>2</th>\n",
       "      <td>appeal_to_fear_prejudice</td>\n",
       "      <td>gets Earl Warren and Sen. Richard Russel to j...</td>\n",
       "    </tr>\n",
       "    <tr>\n",
       "      <th>3</th>\n",
       "      <td>not_propaganda</td>\n",
       "      <td>You</td>\n",
       "    </tr>\n",
       "    <tr>\n",
       "      <th>4</th>\n",
       "      <td>repetition</td>\n",
       "      <td>infidels</td>\n",
       "    </tr>\n",
       "    <tr>\n",
       "      <th>5</th>\n",
       "      <td>name_calling,labeling</td>\n",
       "      <td>the \"gay lifestyle</td>\n",
       "    </tr>\n",
       "    <tr>\n",
       "      <th>6</th>\n",
       "      <td>loaded_language</td>\n",
       "      <td>devastating communities</td>\n",
       "    </tr>\n",
       "    <tr>\n",
       "      <th>7</th>\n",
       "      <td>not_propaganda</td>\n",
       "      <td>Jacob</td>\n",
       "    </tr>\n",
       "    <tr>\n",
       "      <th>8</th>\n",
       "      <td>flag_waving</td>\n",
       "      <td>Iran’s long rap sheet of aggression against A...</td>\n",
       "    </tr>\n",
       "    <tr>\n",
       "      <th>9</th>\n",
       "      <td>doubt</td>\n",
       "      <td>Now, the pope’s reply to my testimony was: “I...</td>\n",
       "    </tr>\n",
       "  </tbody>\n",
       "</table>\n",
       "</div>"
      ],
      "text/plain": [
       "                       label  \\\n",
       "0             not_propaganda   \n",
       "1  causal_oversimplification   \n",
       "2   appeal_to_fear_prejudice   \n",
       "3             not_propaganda   \n",
       "4                 repetition   \n",
       "5      name_calling,labeling   \n",
       "6            loaded_language   \n",
       "7             not_propaganda   \n",
       "8                flag_waving   \n",
       "9                      doubt   \n",
       "\n",
       "                                   tagged_in_context  \n",
       "0                       according to a UN estimate.   \n",
       "1   the country would not last long without an ou...  \n",
       "2   gets Earl Warren and Sen. Richard Russel to j...  \n",
       "3                                               You   \n",
       "4                                          infidels   \n",
       "5                                the \"gay lifestyle   \n",
       "6                           devastating communities   \n",
       "7                                             Jacob   \n",
       "8   Iran’s long rap sheet of aggression against A...  \n",
       "9   Now, the pope’s reply to my testimony was: “I...  "
      ]
     },
     "execution_count": 3,
     "metadata": {},
     "output_type": "execute_result"
    }
   ],
   "source": [
    "def convert_token(sentences):\n",
    "    start_sent=sentences.split(\"<BOS>\")\n",
    "    end_sent=start_sent[1].split(\"<EOS>\")\n",
    "    return end_sent[0]\n",
    "\n",
    "testingdf[\"tagged_in_context\"]=testingdf[\"tagged_in_context\"].map(convert_token)\n",
    "trainingdf[\"tagged_in_context\"]=trainingdf[\"tagged_in_context\"].map(convert_token)\n",
    "\n",
    "testingdf.head(10)"
   ]
  },
  {
   "cell_type": "code",
   "execution_count": 4,
   "metadata": {},
   "outputs": [
    {
     "data": {
      "text/plain": [
       "not_propaganda               1191\n",
       "exaggeration,minimisation     164\n",
       "causal_oversimplification     158\n",
       "name_calling,labeling         157\n",
       "loaded_language               154\n",
       "appeal_to_fear_prejudice      151\n",
       "flag_waving                   148\n",
       "repetition                    147\n",
       "doubt                         144\n",
       "Name: label, dtype: int64"
      ]
     },
     "execution_count": 4,
     "metadata": {},
     "output_type": "execute_result"
    }
   ],
   "source": [
    "trainingdf[\"label\"].value_counts(dropna=False)"
   ]
  },
  {
   "cell_type": "code",
   "execution_count": 5,
   "metadata": {},
   "outputs": [],
   "source": [
    "def convert_labels_multi(label):\n",
    "    if label==\"flag_waving\":\n",
    "        return 0\n",
    "    elif label==\"appeal_to_fear_prejudice\":\n",
    "        return 1\n",
    "    elif label==\"causal_oversimplification\":\n",
    "        return 2\n",
    "    elif label ==\"doubt\":\n",
    "        return 3\n",
    "    elif label == \"exaggeration,minimisation\":\n",
    "        return 4\n",
    "    elif label == \"loaded_language\":\n",
    "        return 5\n",
    "    elif label == \"name_calling,labeling\":\n",
    "        return 6\n",
    "    elif label == \"repetition\":\n",
    "        return 7\n",
    "\n",
    "\n",
    "testingdf=testingdf[testingdf.label != \"not_propaganda\"]\n",
    "trainingdf = trainingdf[trainingdf.label != \"not_propaganda\"]\n",
    "\n",
    "trainingdf[\"label\"] = trainingdf[\"label\"].map(convert_labels_multi)\n",
    "testingdf[\"label\"] = testingdf[\"label\"].map(convert_labels_multi)\n",
    "\n",
    "trainingdf.reset_index(inplace=True)\n",
    "testingdf.reset_index(inplace = True)"
   ]
  },
  {
   "cell_type": "code",
   "execution_count": 6,
   "metadata": {},
   "outputs": [
    {
     "data": {
      "text/plain": [
       "4    164\n",
       "2    158\n",
       "6    157\n",
       "5    154\n",
       "1    151\n",
       "0    148\n",
       "7    147\n",
       "3    144\n",
       "Name: label, dtype: int64"
      ]
     },
     "execution_count": 6,
     "metadata": {},
     "output_type": "execute_result"
    }
   ],
   "source": [
    "trainingdf[\"label\"].value_counts(dropna=False)"
   ]
  },
  {
   "cell_type": "code",
   "execution_count": 7,
   "metadata": {},
   "outputs": [],
   "source": [
    "from keras.utils import to_categorical\n",
    "y_train = to_categorical(trainingdf[\"label\"])\n",
    "y_test = to_categorical(testingdf[\"label\"])\n"
   ]
  },
  {
   "cell_type": "code",
   "execution_count": 8,
   "metadata": {},
   "outputs": [],
   "source": [
    "from keras.preprocessing.text import Tokenizer\n",
    "no_words=10000\n",
    "tokenizer=Tokenizer(num_words=no_words,lower=True)"
   ]
  },
  {
   "cell_type": "code",
   "execution_count": 9,
   "metadata": {},
   "outputs": [],
   "source": [
    "mes = []\n",
    "for i in trainingdf['tagged_in_context']:\n",
    "    mes.append(i.split())\n",
    "for i in testingdf['tagged_in_context']:\n",
    "    mes.append(i.split())"
   ]
  },
  {
   "cell_type": "code",
   "execution_count": 10,
   "metadata": {},
   "outputs": [],
   "source": [
    "tokenizer.fit_on_texts(mes)"
   ]
  },
  {
   "cell_type": "code",
   "execution_count": 11,
   "metadata": {},
   "outputs": [],
   "source": [
    "X_train=tokenizer.texts_to_sequences(trainingdf[\"tagged_in_context\"])\n",
    "X_train_pad=pad_sequences(X_train,maxlen=140,padding='post') \n",
    "X_test = tokenizer.texts_to_sequences(testingdf[\"tagged_in_context\"])\n",
    "X_test_pad = pad_sequences(X_test, maxlen = 140, padding = 'post')\n"
   ]
  },
  {
   "cell_type": "code",
   "execution_count": 12,
   "metadata": {},
   "outputs": [],
   "source": [
    "import gensim.downloader as api\n",
    "glove_gensim  = api.load('glove-wiki-gigaword-100')"
   ]
  },
  {
   "cell_type": "code",
   "execution_count": 13,
   "metadata": {},
   "outputs": [],
   "source": [
    "vector_size = 100\n",
    "gensim_weight_matrix = np.zeros((no_words ,vector_size))\n",
    "gensim_weight_matrix.shape\n",
    "words = list(glove_gensim.key_to_index.keys())\n",
    "for word, index in tokenizer.word_index.items():\n",
    "    if index < no_words:  \n",
    "        if word in  words:\n",
    "            gensim_weight_matrix[index] = glove_gensim[word]\n",
    "        else:\n",
    "            gensim_weight_matrix[index] = np.zeros(100)"
   ]
  },
  {
   "cell_type": "code",
   "execution_count": 14,
   "metadata": {},
   "outputs": [],
   "source": [
    "import tensorflow as tf\n",
    "from keras.datasets import imdb\n",
    "from keras.models import Sequential\n",
    "from keras.layers import Dense\n",
    "from keras.layers import LSTM\n",
    "from keras.layers import Bidirectional\n",
    "from keras.layers import Embedding\n",
    "from keras.preprocessing import sequence"
   ]
  },
  {
   "cell_type": "code",
   "execution_count": 15,
   "metadata": {},
   "outputs": [],
   "source": [
    "EMBEDDING_DIM = 100\n",
    "class_num = 8\n",
    "model = Sequential()\n",
    "model.add(Embedding(input_dim = no_words,\n",
    " output_dim = EMBEDDING_DIM,\n",
    " input_length= X_train_pad.shape[1],\n",
    " weights = [gensim_weight_matrix],trainable = False))\n",
    "\n",
    "\n",
    "model.add(Bidirectional(LSTM(100,return_sequences=True)))\n",
    "model.add(Dropout(0.2))\n",
    "model.add(Bidirectional(LSTM(200,return_sequences=True)))\n",
    "model.add(Dropout(0.2))\n",
    "model.add(Bidirectional(LSTM(200,return_sequences=False)))\n",
    "model.add(Dense(class_num, activation = \"softmax\"))\n",
    "model.compile(loss = \"categorical_crossentropy\", optimizer = \"adam\",metrics = \"accuracy\")\n",
    "\n",
    "\n",
    "\n",
    "\n"
   ]
  },
  {
   "cell_type": "code",
   "execution_count": 16,
   "metadata": {},
   "outputs": [],
   "source": [
    "# EarlyStopping and ModelCheckpoint\n",
    "from keras.callbacks import EarlyStopping, ModelCheckpoint\n",
    "es = EarlyStopping(monitor = 'val_loss', mode = 'min', verbose = 1, patience = 5)\n",
    "mc = ModelCheckpoint('./model.h5', monitor = 'val_accuracy', mode = 'max', verbose = 1, save_best_only = True)"
   ]
  },
  {
   "cell_type": "code",
   "execution_count": 17,
   "metadata": {},
   "outputs": [
    {
     "name": "stdout",
     "output_type": "stream",
     "text": [
      "Epoch 1/25\n",
      "11/11 [==============================] - ETA: 0s - loss: 1.9100 - accuracy: 0.2437\n",
      "Epoch 1: val_accuracy improved from -inf to 0.26165, saving model to ./model.h5\n",
      "11/11 [==============================] - 16s 1s/step - loss: 1.9100 - accuracy: 0.2437 - val_loss: 1.8068 - val_accuracy: 0.2616\n",
      "Epoch 2/25\n",
      "11/11 [==============================] - ETA: 0s - loss: 1.6389 - accuracy: 0.3557\n",
      "Epoch 2: val_accuracy improved from 0.26165 to 0.31900, saving model to ./model.h5\n",
      "11/11 [==============================] - 11s 980ms/step - loss: 1.6389 - accuracy: 0.3557 - val_loss: 1.7480 - val_accuracy: 0.3190\n",
      "Epoch 3/25\n",
      "11/11 [==============================] - ETA: 0s - loss: 1.4674 - accuracy: 0.4358\n",
      "Epoch 3: val_accuracy improved from 0.31900 to 0.39785, saving model to ./model.h5\n",
      "11/11 [==============================] - 11s 995ms/step - loss: 1.4674 - accuracy: 0.4358 - val_loss: 1.6853 - val_accuracy: 0.3978\n",
      "Epoch 4/25\n",
      "11/11 [==============================] - ETA: 0s - loss: 1.4180 - accuracy: 0.4538\n",
      "Epoch 4: val_accuracy improved from 0.39785 to 0.41577, saving model to ./model.h5\n",
      "11/11 [==============================] - 11s 990ms/step - loss: 1.4180 - accuracy: 0.4538 - val_loss: 1.5595 - val_accuracy: 0.4158\n",
      "Epoch 5/25\n",
      "11/11 [==============================] - ETA: 0s - loss: 1.3304 - accuracy: 0.5012\n",
      "Epoch 5: val_accuracy did not improve from 0.41577\n",
      "11/11 [==============================] - 11s 989ms/step - loss: 1.3304 - accuracy: 0.5012 - val_loss: 1.5710 - val_accuracy: 0.4122\n",
      "Epoch 6/25\n",
      "11/11 [==============================] - ETA: 0s - loss: 1.2153 - accuracy: 0.5364\n",
      "Epoch 6: val_accuracy improved from 0.41577 to 0.41935, saving model to ./model.h5\n",
      "11/11 [==============================] - 11s 986ms/step - loss: 1.2153 - accuracy: 0.5364 - val_loss: 1.5825 - val_accuracy: 0.4194\n",
      "Epoch 7/25\n",
      "11/11 [==============================] - ETA: 0s - loss: 1.1992 - accuracy: 0.5544\n",
      "Epoch 7: val_accuracy did not improve from 0.41935\n",
      "11/11 [==============================] - 11s 984ms/step - loss: 1.1992 - accuracy: 0.5544 - val_loss: 1.7116 - val_accuracy: 0.3835\n",
      "Epoch 8/25\n",
      "11/11 [==============================] - ETA: 0s - loss: 1.1705 - accuracy: 0.5683\n",
      "Epoch 8: val_accuracy did not improve from 0.41935\n",
      "11/11 [==============================] - 11s 980ms/step - loss: 1.1705 - accuracy: 0.5683 - val_loss: 1.6442 - val_accuracy: 0.4086\n",
      "Epoch 9/25\n",
      "11/11 [==============================] - ETA: 0s - loss: 1.0864 - accuracy: 0.6010\n",
      "Epoch 9: val_accuracy improved from 0.41935 to 0.45878, saving model to ./model.h5\n",
      "11/11 [==============================] - 11s 991ms/step - loss: 1.0864 - accuracy: 0.6010 - val_loss: 1.5798 - val_accuracy: 0.4588\n",
      "Epoch 9: early stopping\n"
     ]
    }
   ],
   "source": [
    "history_embedding = model.fit(X_train_pad, y_train, \n",
    "                                epochs = 25, batch_size = 120, \n",
    "                                validation_data=(X_test_pad, y_test),\n",
    "                                verbose = 1, callbacks= [es, mc]  )"
   ]
  },
  {
   "cell_type": "code",
   "execution_count": 18,
   "metadata": {},
   "outputs": [
    {
     "data": {
      "image/png": "[encoded data removed]",
      "text/plain": [
       "<Figure size 640x480 with 1 Axes>"
      ]
     },
     "metadata": {},
     "output_type": "display_data"
    }
   ],
   "source": [
    "import matplotlib.pyplot as plt\n",
    "plt.plot(history_embedding.history['accuracy'],c='b',label='train accuracy')\n",
    "plt.plot(history_embedding.history['val_accuracy'],c='r',label='validation accuracy')\n",
    "plt.legend(loc='lower right')\n",
    "plt.show()"
   ]
  },
  {
   "cell_type": "code",
   "execution_count": 19,
   "metadata": {},
   "outputs": [
    {
     "name": "stdout",
     "output_type": "stream",
     "text": [
      "9/9 [==============================] - 2s 124ms/step\n",
      "              precision    recall  f1-score   support\n",
      "\n",
      "           0       0.44      0.63      0.52        27\n",
      "           1       0.60      0.49      0.54        53\n",
      "           2       0.35      0.34      0.35        32\n",
      "           3       0.45      0.50      0.47        34\n",
      "           4       0.39      0.41      0.40        27\n",
      "           5       0.43      0.59      0.50        27\n",
      "           6       0.55      0.40      0.46        43\n",
      "           7       0.41      0.36      0.38        36\n",
      "\n",
      "    accuracy                           0.46       279\n",
      "   macro avg       0.45      0.47      0.45       279\n",
      "weighted avg       0.47      0.46      0.46       279\n",
      "\n"
     ]
    }
   ],
   "source": [
    "y_pred =   np.argmax(model.predict(X_test_pad), axis  =  1)\n",
    "y_true = np.argmax(y_test, axis = 1)\n",
    "from sklearn import metrics\n",
    "print(metrics.classification_report(y_pred, y_true))"
   ]
  },
  {
   "cell_type": "code",
   "execution_count": 20,
   "metadata": {},
   "outputs": [
    {
     "name": "stdout",
     "output_type": "stream",
     "text": [
      "9/9 [==============================] - 1s 125ms/step\n",
      "9/9 [==============================] - 1s 125ms/step\n",
      "Accuracy:  0.3118279569892473\n",
      "Precision:  0.5230012871853547\n",
      "Recall:  0.3084592069050355\n",
      "F1 Score:  0.3628622995836655\n"
     ]
    }
   ],
   "source": [
    "y_pred = model.predict(X_test_pad)\n",
    "y_pred\n",
    "threshold=0.5\n",
    "convert_labels_multi = np.where(y_pred >= threshold, 1, 0)\n",
    "\n",
    "\n",
    "y_pred = model.predict(X_test_pad)\n",
    "y_pred = np.argmax (y_pred, axis = 1)\n",
    "from sklearn.metrics import accuracy_score, precision_score, recall_score, f1_score\n",
    "print(\"Accuracy: \", accuracy_score(y_test, convert_labels_multi))\n",
    "print(\"Precision: \", precision_score(y_test, convert_labels_multi, average='macro'))\n",
    "print(\"Recall: \", recall_score(y_test, convert_labels_multi, average='macro'))\n",
    "print(\"F1 Score: \", f1_score(y_test, convert_labels_multi, average='macro'))"
   ]
  },
  {
   "cell_type": "code",
   "execution_count": null,
   "metadata": {},
   "outputs": [],
   "source": []
  }
 ],
 "metadata": {
  "kernelspec": {
   "display_name": "Python 3 (ipykernel)",
   "language": "python",
   "name": "python3"
  },
  "language_info": {
   "codemirror_mode": {
    "name": "ipython",
    "version": 3
   },
   "file_extension": ".py",
   "mimetype": "text/x-python",
   "name": "python",
   "nbconvert_exporter": "python",
   "pygments_lexer": "ipython3",
   "version": "3.9.16"
  }
 },
 "nbformat": 4,
 "nbformat_minor": 2
}
